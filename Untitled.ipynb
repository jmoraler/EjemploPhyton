{
 "cells": [
  {
   "cell_type": "code",
   "execution_count": 8,
   "metadata": {},
   "outputs": [
    {
     "name": "stdout",
     "output_type": "stream",
     "text": [
      "El largo del coche es:  250\n",
      "El coche tiene:  4  ruedas\n",
      "El coche está en marcha\n"
     ]
    }
   ],
   "source": [
    "class Coche():\n",
    "    largoChasis=250                            # Atributos o propiedades de la clase\n",
    "    anchoChasis=120\n",
    "    ruedas=4\n",
    "    enmarcha=False\n",
    "    \n",
    "    def arrancar(self):                        # Método: Sirve para cambiar el comportamiento de nuestro objeto\n",
    "        self.enmarcha = True\n",
    "    def estado(self):\n",
    "        if(self.enmarcha):\n",
    "            return (\"El coche está en marcha\")\n",
    "        else:\n",
    "            return (\"El coche está parado\")\n",
    "miCoche=Coche()                                # Crear un objeto instanciando una clase (en Java se usa el operador New)\n",
    "\n",
    "print(\"El largo del coche es: \", miCoche.largoChasis)   # Acceder al objeto\n",
    "print(\"El coche tiene: \", miCoche.ruedas,\" ruedas\")\n",
    "miCoche.arrancar()                             # El objeto viaja hasta el método, y asi se pone en marcha el objeto\n",
    "print(miCoche.estado())\n",
    "\n",
    "\n",
    "\n",
    "# Nuestra Clase coche() tiene:\n",
    "#    - 4 propiedades\n",
    "#    - 2 comportamientos"
   ]
  },
  {
   "cell_type": "code",
   "execution_count": null,
   "metadata": {},
   "outputs": [],
   "source": []
  }
 ],
 "metadata": {
  "kernelspec": {
   "display_name": "Python 3",
   "language": "python",
   "name": "python3"
  },
  "language_info": {
   "codemirror_mode": {
    "name": "ipython",
    "version": 3
   },
   "file_extension": ".py",
   "mimetype": "text/x-python",
   "name": "python",
   "nbconvert_exporter": "python",
   "pygments_lexer": "ipython3",
   "version": "3.7.3"
  }
 },
 "nbformat": 4,
 "nbformat_minor": 2
}
