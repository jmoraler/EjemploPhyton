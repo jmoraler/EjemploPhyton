{
 "cells": [
  {
   "cell_type": "code",
   "execution_count": 6,
   "metadata": {},
   "outputs": [
    {
     "name": "stdout",
     "output_type": "stream",
     "text": [
      "Nombre:  Antonio  Edad:  55  Residencia:  España\n"
     ]
    }
   ],
   "source": [
    "class persona():\n",
    "    def __init__(self, nombre, edad, lugar_residencia):\n",
    "        self.nombre=nombre\n",
    "        self.edad=edad\n",
    "        self.lugar_residencia=lugar_residencia\n",
    "    \n",
    "    def descripcion(self):\n",
    "        print(\"Nombre: \", self.nombre, \" Edad: \", self.edad, \" Residencia: \", self.lugar_residencia)\n",
    "\n",
    "class empleado(persona):\n",
    "    def __init__(self, salario, antiguedad):\n",
    "        \n",
    "        super().__init__(\"Antonio\",55,\"España\")     # Para meterle los datos de la superclase\n",
    "        \n",
    "        self.salario=salario\n",
    "        self.antiguedad=antiguedad\n",
    "        \n",
    "Antonio=empleado(1500,15)\n",
    "Antonio.descripcion()\n",
    "    "
   ]
  },
  {
   "cell_type": "code",
   "execution_count": 13,
   "metadata": {},
   "outputs": [
    {
     "name": "stdout",
     "output_type": "stream",
     "text": [
      "Nombre:  Antonio  Edad:  55  Residencia:  Colombia\n",
      "Salario:  1500  Antiguedad:  15\n",
      "True\n"
     ]
    }
   ],
   "source": [
    "class persona():\n",
    "    def __init__(self, nombre, edad, lugar_residencia):\n",
    "        self.nombre=nombre\n",
    "        self.edad=edad\n",
    "        self.lugar_residencia=lugar_residencia\n",
    "    \n",
    "    def descripcion(self):\n",
    "        print(\"Nombre: \", self.nombre, \" Edad: \", self.edad, \" Residencia: \", self.lugar_residencia)\n",
    "\n",
    "class empleado(persona):\n",
    "    def __init__(self, salario, antiguedad, nombre_empleado, edad_empleado, residencia_empleado):\n",
    "        \n",
    "        super().__init__(nombre_empleado, edad_empleado, residencia_empleado)    \n",
    "        \n",
    "        self.salario=salario\n",
    "        self.antiguedad=antiguedad\n",
    "    \n",
    "    def descripcion(self):\n",
    "        super().descripcion()\n",
    "        \n",
    "        print(\"Salario: \",self.salario, \" Antiguedad: \", self.antiguedad)\n",
    "        \n",
    "Antonio=empleado(1500,15,\"Antonio\",55,\"Colombia\")\n",
    "Antonio.descripcion()\n",
    "\n",
    "print(isinstance(Antonio, persona))      # 'isinstance' nos devuelve si un objeto pertenece a la clase que le indiquemos con True o False.\n",
    "    "
   ]
  },
  {
   "cell_type": "code",
   "execution_count": 16,
   "metadata": {},
   "outputs": [
    {
     "name": "stdout",
     "output_type": "stream",
     "text": [
      "Nombre:  Antonio  Edad:  55  Residencia:  Colombia\n",
      "False\n"
     ]
    }
   ],
   "source": [
    "class persona():\n",
    "    def __init__(self, nombre, edad, lugar_residencia):\n",
    "        self.nombre=nombre\n",
    "        self.edad=edad\n",
    "        self.lugar_residencia=lugar_residencia\n",
    "    \n",
    "    def descripcion(self):\n",
    "        print(\"Nombre: \", self.nombre, \" Edad: \", self.edad, \" Residencia: \", self.lugar_residencia)\n",
    "\n",
    "class empleado(persona):\n",
    "    def __init__(self, salario, antiguedad, nombre_empleado, edad_empleado, residencia_empleado):\n",
    "        \n",
    "        super().__init__(nombre_empleado, edad_empleado, residencia_empleado)    \n",
    "        \n",
    "        self.salario=salario\n",
    "        self.antiguedad=antiguedad\n",
    "    \n",
    "    def descripcion(self):\n",
    "        super().descripcion()\n",
    "        \n",
    "        print(\"Salario: \",self.salario, \" Antiguedad: \", self.antiguedad)\n",
    "        \n",
    "Antonio=persona(\"Antonio\",55,\"Colombia\")\n",
    "Antonio.descripcion()\n",
    "\n",
    "print(isinstance(Antonio, empleado))     "
   ]
  },
  {
   "cell_type": "code",
   "execution_count": null,
   "metadata": {},
   "outputs": [],
   "source": []
  }
 ],
 "metadata": {
  "kernelspec": {
   "display_name": "Python 3",
   "language": "python",
   "name": "python3"
  },
  "language_info": {
   "codemirror_mode": {
    "name": "ipython",
    "version": 3
   },
   "file_extension": ".py",
   "mimetype": "text/x-python",
   "name": "python",
   "nbconvert_exporter": "python",
   "pygments_lexer": "ipython3",
   "version": "3.7.3"
  }
 },
 "nbformat": 4,
 "nbformat_minor": 2
}
