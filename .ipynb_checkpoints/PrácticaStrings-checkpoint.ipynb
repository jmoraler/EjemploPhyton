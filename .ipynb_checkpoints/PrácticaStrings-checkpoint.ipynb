{
 "cells": [
  {
   "cell_type": "code",
   "execution_count": 1,
   "metadata": {},
   "outputs": [
    {
     "name": "stdout",
     "output_type": "stream",
     "text": [
      "Introduce nombre usuario: usdsd\n",
      "El nombre es:  USDSD\n"
     ]
    }
   ],
   "source": [
    "nombreUsuario=input(\"Introduce nombre usuario: \")\n",
    "\n",
    "print(\"El nombre es: \", nombreUsuario.upper())"
   ]
  },
  {
   "cell_type": "code",
   "execution_count": 2,
   "metadata": {},
   "outputs": [
    {
     "name": "stdout",
     "output_type": "stream",
     "text": [
      "Introduce nombre usuario: juan\n",
      "El nombre es:  Juan\n"
     ]
    }
   ],
   "source": [
    "nombreUsuario=input(\"Introduce nombre usuario: \")\n",
    "\n",
    "print(\"El nombre es: \", nombreUsuario.capitalize())"
   ]
  },
  {
   "cell_type": "code",
   "execution_count": 4,
   "metadata": {},
   "outputs": [
    {
     "name": "stdout",
     "output_type": "stream",
     "text": [
      "Introduce la edad: 23\n",
      "True\n"
     ]
    }
   ],
   "source": [
    "edad=input(\"Introduce la edad: \")\n",
    "\n",
    "print(edad.isdigit())"
   ]
  },
  {
   "cell_type": "code",
   "execution_count": 7,
   "metadata": {},
   "outputs": [
    {
     "name": "stdout",
     "output_type": "stream",
     "text": [
      "Introduce la edad: tttt\n",
      "Introduce valor numérico\n",
      "Introduce la edad: hh\n",
      "Introduce valor numérico\n",
      "Introduce la edad: 48\n",
      "Pasa\n"
     ]
    }
   ],
   "source": [
    "edad=input(\"Introduce la edad: \")\n",
    "\n",
    "while(edad.isdigit()==False):\n",
    "    print(\"Introduce valor numérico\")\n",
    "    edad=input(\"Introduce la edad: \")\n",
    "\n",
    "if(int(edad)<18):\n",
    "    print(\"No pasa\")\n",
    "else:\n",
    "    print(\"Pasa\")"
   ]
  },
  {
   "cell_type": "code",
   "execution_count": null,
   "metadata": {},
   "outputs": [],
   "source": []
  }
 ],
 "metadata": {
  "kernelspec": {
   "display_name": "Python 3",
   "language": "python",
   "name": "python3"
  },
  "language_info": {
   "codemirror_mode": {
    "name": "ipython",
    "version": 3
   },
   "file_extension": ".py",
   "mimetype": "text/x-python",
   "name": "python",
   "nbconvert_exporter": "python",
   "pygments_lexer": "ipython3",
   "version": "3.7.3"
  }
 },
 "nbformat": 4,
 "nbformat_minor": 2
}
