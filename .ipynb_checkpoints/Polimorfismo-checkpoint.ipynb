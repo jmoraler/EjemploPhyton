{
 "cells": [
  {
   "cell_type": "code",
   "execution_count": 4,
   "metadata": {},
   "outputs": [
    {
     "name": "stdout",
     "output_type": "stream",
     "text": [
      "Uso 4 ruedas\n"
     ]
    }
   ],
   "source": [
    "class coche():\n",
    "    def desplazamiento(self):\n",
    "        print(\"Uso 4 ruedas\")\n",
    "\n",
    "class moto():\n",
    "    def desplazamiento(self):\n",
    "        print(\"Uso 2 ruedas\")\n",
    "        \n",
    "class camion():\n",
    "    def desplazamiento(self):\n",
    "        print(\"Uso 6 ruedas\")\n",
    "        \n",
    "\n",
    "#mivehiculo=moto()\n",
    "#mivehiculo.desplazamiento()\n",
    "\n",
    "#mivehiculo2=coche()\n",
    "#mivehiculo2.desplazamiento()\n",
    "\n",
    "#mivehiculo3=camion()\n",
    "#mivehiculo3.desplazamiento()\n",
    "\n",
    "# lo hacemos mediante polimorfismo:\n",
    "\n",
    "def desplazamientoVehiculo(vehiculo):\n",
    "    vehiculo.desplazamiento()\n",
    "    \n",
    "mivehiculo=coche()                   # simplemente con cambiar el tipo de vehiculo ya se usa la funcion desplazamiento de cada clase\n",
    "desplazamientoVehiculo(mivehiculo)\n"
   ]
  },
  {
   "cell_type": "code",
   "execution_count": null,
   "metadata": {},
   "outputs": [],
   "source": []
  }
 ],
 "metadata": {
  "kernelspec": {
   "display_name": "Python 3",
   "language": "python",
   "name": "python3"
  },
  "language_info": {
   "codemirror_mode": {
    "name": "ipython",
    "version": 3
   },
   "file_extension": ".py",
   "mimetype": "text/x-python",
   "name": "python",
   "nbconvert_exporter": "python",
   "pygments_lexer": "ipython3",
   "version": "3.7.3"
  }
 },
 "nbformat": 4,
 "nbformat_minor": 2
}
