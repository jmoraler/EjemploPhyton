{
 "cells": [
  {
   "cell_type": "code",
   "execution_count": 2,
   "metadata": {},
   "outputs": [
    {
     "name": "stdout",
     "output_type": "stream",
     "text": [
      "[2, 4, 6, 8, 10, 12, 14, 16, 18]\n"
     ]
    }
   ],
   "source": [
    "def generaPares(limite):       # Funcion normal\n",
    "    num=1\n",
    "    \n",
    "    lista=[]\n",
    "    \n",
    "    while num<limite:\n",
    "        \n",
    "        lista.append(num*2)\n",
    "        \n",
    "        num=num+1\n",
    "    \n",
    "    return lista\n",
    "\n",
    "\n",
    "print(generaPares(10))"
   ]
  },
  {
   "cell_type": "code",
   "execution_count": 3,
   "metadata": {},
   "outputs": [
    {
     "name": "stdout",
     "output_type": "stream",
     "text": [
      "2\n",
      "4\n",
      "6\n",
      "8\n",
      "10\n",
      "12\n",
      "14\n",
      "16\n",
      "18\n"
     ]
    }
   ],
   "source": [
    "def generaPares(limite):       # Generador\n",
    "    num=1\n",
    "    \n",
    "    while num<limite:\n",
    "        \n",
    "        yield num*2\n",
    "        \n",
    "        num=num+1\n",
    "\n",
    "devuelvePares=generaPares(10)\n",
    "\n",
    "for i in devuelvePares:\n",
    "    print(i)"
   ]
  },
  {
   "cell_type": "code",
   "execution_count": 4,
   "metadata": {},
   "outputs": [
    {
     "name": "stdout",
     "output_type": "stream",
     "text": [
      "2\n",
      "Aqui podria ir mas código....\n",
      "4\n",
      "Aqui podria ir mas código....\n",
      "6\n",
      "Aqui podria ir mas código....\n"
     ]
    }
   ],
   "source": [
    "def generaPares(limite):       # Generador, donde solo se genera en funcion de lo que llamemos.\n",
    "    num=1\n",
    "    \n",
    "    while num<limite:\n",
    "        \n",
    "        yield num*2\n",
    "        \n",
    "        num=num+1\n",
    "\n",
    "devuelvePares=generaPares(10)\n",
    "\n",
    "print(next(devuelvePares))\n",
    "print(\"Aqui podria ir mas código....\")\n",
    "\n",
    "print(next(devuelvePares))\n",
    "print(\"Aqui podria ir mas código....\")\n",
    "\n",
    "print(next(devuelvePares))\n",
    "print(\"Aqui podria ir mas código....\")"
   ]
  },
  {
   "cell_type": "code",
   "execution_count": 5,
   "metadata": {},
   "outputs": [
    {
     "name": "stdout",
     "output_type": "stream",
     "text": [
      "Madrid\n",
      "Barcelona\n"
     ]
    }
   ],
   "source": [
    "def devuelveCiudades(*ciudades):   # el * indica que va a recibir un numero indeterminado de elementos en forma de tupla.\n",
    "    for elemento in ciudades:\n",
    "        yield elemento\n",
    "\n",
    "ciudadesDevueltas=devuelveCiudades(\"Madrid\",\"Barcelona\",\"Sevilla\",\"Granada\")\n",
    "\n",
    "print(next(ciudadesDevueltas))\n",
    "\n",
    "print(next(ciudadesDevueltas))"
   ]
  },
  {
   "cell_type": "code",
   "execution_count": 8,
   "metadata": {},
   "outputs": [
    {
     "name": "stdout",
     "output_type": "stream",
     "text": [
      "M\n",
      "a\n"
     ]
    }
   ],
   "source": [
    "def devuelveCiudades(*ciudades):   \n",
    "    for elemento in ciudades:\n",
    "        for subelemento in elemento:\n",
    "            yield subelemento\n",
    "\n",
    "ciudadesDevueltas=devuelveCiudades(\"Madrid\",\"Barcelona\",\"Sevilla\",\"Granada\")\n",
    "\n",
    "print(next(ciudadesDevueltas))\n",
    "\n",
    "print(next(ciudadesDevueltas))"
   ]
  },
  {
   "cell_type": "code",
   "execution_count": 9,
   "metadata": {},
   "outputs": [
    {
     "name": "stdout",
     "output_type": "stream",
     "text": [
      "M\n",
      "a\n"
     ]
    }
   ],
   "source": [
    "def devuelveCiudades(*ciudades):   \n",
    "    for elemento in ciudades:\n",
    "        #for subelemento in elemento:\n",
    "            yield from elemento\n",
    "\n",
    "ciudadesDevueltas=devuelveCiudades(\"Madrid\",\"Barcelona\",\"Sevilla\",\"Granada\")\n",
    "\n",
    "print(next(ciudadesDevueltas))\n",
    "\n",
    "print(next(ciudadesDevueltas))"
   ]
  },
  {
   "cell_type": "code",
   "execution_count": null,
   "metadata": {},
   "outputs": [],
   "source": []
  }
 ],
 "metadata": {
  "kernelspec": {
   "display_name": "Python 3",
   "language": "python",
   "name": "python3"
  },
  "language_info": {
   "codemirror_mode": {
    "name": "ipython",
    "version": 3
   },
   "file_extension": ".py",
   "mimetype": "text/x-python",
   "name": "python",
   "nbconvert_exporter": "python",
   "pygments_lexer": "ipython3",
   "version": "3.7.3"
  }
 },
 "nbformat": 4,
 "nbformat_minor": 2
}
