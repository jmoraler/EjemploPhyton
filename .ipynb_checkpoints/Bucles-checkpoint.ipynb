{
 "cells": [
  {
   "cell_type": "code",
   "execution_count": 4,
   "metadata": {},
   "outputs": [
    {
     "name": "stdout",
     "output_type": "stream",
     "text": [
      "3\n",
      "primavera\n",
      "3\n"
     ]
    }
   ],
   "source": [
    "for i in [3,\"primavera\",3]:\n",
    "    print(i)"
   ]
  },
  {
   "cell_type": "code",
   "execution_count": 5,
   "metadata": {},
   "outputs": [],
   "source": [
    "for i in [3,\"primavera\",3]:\n",
    "    i"
   ]
  },
  {
   "cell_type": "code",
   "execution_count": 6,
   "metadata": {},
   "outputs": [
    {
     "ename": "SyntaxError",
     "evalue": "'return' outside function (<ipython-input-6-3166e901d3c8>, line 2)",
     "output_type": "error",
     "traceback": [
      "\u001b[1;36m  File \u001b[1;32m\"<ipython-input-6-3166e901d3c8>\"\u001b[1;36m, line \u001b[1;32m2\u001b[0m\n\u001b[1;33m    return i\u001b[0m\n\u001b[1;37m    ^\u001b[0m\n\u001b[1;31mSyntaxError\u001b[0m\u001b[1;31m:\u001b[0m 'return' outside function\n"
     ]
    }
   ],
   "source": [
    "for i in [3,\"primavera\",3]:\n",
    "    return i"
   ]
  },
  {
   "cell_type": "code",
   "execution_count": 7,
   "metadata": {},
   "outputs": [
    {
     "ename": "SyntaxError",
     "evalue": "'return' outside function (<ipython-input-7-2479efdd809f>, line 2)",
     "output_type": "error",
     "traceback": [
      "\u001b[1;36m  File \u001b[1;32m\"<ipython-input-7-2479efdd809f>\"\u001b[1;36m, line \u001b[1;32m2\u001b[0m\n\u001b[1;33m    return(i)\u001b[0m\n\u001b[1;37m    ^\u001b[0m\n\u001b[1;31mSyntaxError\u001b[0m\u001b[1;31m:\u001b[0m 'return' outside function\n"
     ]
    }
   ],
   "source": [
    "for i in [3,\"primavera\",3]:\n",
    "    return(i)"
   ]
  },
  {
   "cell_type": "code",
   "execution_count": 9,
   "metadata": {},
   "outputs": [
    {
     "name": "stdout",
     "output_type": "stream",
     "text": [
      "Hola Hola Hola Hola Hola Hola Hola Hola Hola "
     ]
    }
   ],
   "source": [
    "for i in \"primavera\":\n",
    "    print(\"Hola\", end=\" \")"
   ]
  },
  {
   "cell_type": "code",
   "execution_count": 17,
   "metadata": {},
   "outputs": [
    {
     "name": "stdout",
     "output_type": "stream",
     "text": [
      "Introduce tu email: mkdmfkmdkfm\n",
      "email incorrecto\n"
     ]
    }
   ],
   "source": [
    "email=False\n",
    "mi_email=input(\"Introduce tu email: \")\n",
    "\n",
    "for i in mi_email:\n",
    "    if i==\"@\":\n",
    "        email=True\n",
    "if email:\n",
    "    print(\"email correcto\")\n",
    "else:\n",
    "    print(\"email incorrecto\")"
   ]
  },
  {
   "cell_type": "code",
   "execution_count": null,
   "metadata": {},
   "outputs": [],
   "source": [
    "contador=0\n",
    "mi_email=input(\"Introduce tu email: \")\n",
    "\n",
    "for i in mi_email:\n",
    "    if(i==\"@\" or i==\".\"):\n",
    "        contador = contador + 1\n",
    "        \n",
    "if contador==2:\n",
    "    print(\"email correcto\")\n",
    "else:\n",
    "    print(\"email incorrecto\")\n",
    "    \n",
    "i"
   ]
  },
  {
   "cell_type": "markdown",
   "metadata": {},
   "source": [
    "print(contador)\n",
    "contador=0\n",
    "mi_email=input(\"Introduce tu email: \")\n",
    "\n",
    "for i in mi_email:\n",
    "    if(i==\"@\" or i==\".\"):\n",
    "        contador = contador + 1\n",
    "        \n",
    "if contador==2:\n",
    "    print(\"email correcto\")\n",
    "else:\n",
    "    print(\"email incorrecto\")\n"
   ]
  },
  {
   "cell_type": "code",
   "execution_count": null,
   "metadata": {},
   "outputs": [],
   "source": [
    "contador=0\n",
    "mi_email=input(\"Introduce tu email: \")\n",
    "\n",
    "for i in mi_email:\n",
    "    if(i==\"@\" or i==\".\"):\n",
    "        contador = contador + 1\n",
    "        \n",
    "if contador==2:\n",
    "    print(\"email correcto\")\n",
    "else:\n",
    "    print(\"email incorrecto\")"
   ]
  },
  {
   "cell_type": "code",
   "execution_count": null,
   "metadata": {},
   "outputs": [],
   "source": []
  }
 ],
 "metadata": {
  "kernelspec": {
   "display_name": "Python 3",
   "language": "python",
   "name": "python3"
  },
  "language_info": {
   "codemirror_mode": {
    "name": "ipython",
    "version": 3
   },
   "file_extension": ".py",
   "mimetype": "text/x-python",
   "name": "python",
   "nbconvert_exporter": "python",
   "pygments_lexer": "ipython3",
   "version": "3.7.3"
  }
 },
 "nbformat": 4,
 "nbformat_minor": 2
}
