{
 "cells": [
  {
   "cell_type": "code",
   "execution_count": 13,
   "metadata": {},
   "outputs": [
    {
     "name": "stdout",
     "output_type": "stream",
     "text": [
      "Programa de evaluacion de notas de alumnos\n",
      "Introduce la nota del alumno: 3\n",
      "suspenso\n"
     ]
    },
    {
     "ename": "NameError",
     "evalue": "name 'valoracion' is not defined",
     "output_type": "error",
     "traceback": [
      "\u001b[1;31m---------------------------------------------------------------------------\u001b[0m",
      "\u001b[1;31mNameError\u001b[0m                                 Traceback (most recent call last)",
      "\u001b[1;32m<ipython-input-13-768638c293b5>\u001b[0m in \u001b[0;36m<module>\u001b[1;34m\u001b[0m\n\u001b[0;32m     10\u001b[0m \u001b[1;33m\u001b[0m\u001b[0m\n\u001b[0;32m     11\u001b[0m \u001b[0mprint\u001b[0m\u001b[1;33m(\u001b[0m\u001b[0mevaluacion\u001b[0m\u001b[1;33m(\u001b[0m\u001b[0mint\u001b[0m\u001b[1;33m(\u001b[0m\u001b[0mnota_alumno\u001b[0m\u001b[1;33m)\u001b[0m\u001b[1;33m)\u001b[0m\u001b[1;33m)\u001b[0m\u001b[1;33m\u001b[0m\u001b[1;33m\u001b[0m\u001b[0m\n\u001b[1;32m---> 12\u001b[1;33m \u001b[0mprint\u001b[0m\u001b[1;33m(\u001b[0m\u001b[0mvaloracion\u001b[0m\u001b[1;33m)\u001b[0m\u001b[1;33m\u001b[0m\u001b[1;33m\u001b[0m\u001b[0m\n\u001b[0m",
      "\u001b[1;31mNameError\u001b[0m: name 'valoracion' is not defined"
     ]
    }
   ],
   "source": [
    "print(\"Programa de evaluacion de notas de alumnos\")\n",
    "\n",
    "nota_alumno=input(\"Introduce la nota del alumno: \")  # lo que se introduzca por input() siempre será un texto\n",
    "\n",
    "def evaluacion(nota):\n",
    "    valoracion=\"aprobado\"\n",
    "    if nota<5:\n",
    "        valoracion=\"suspenso\"\n",
    "    return valoracion\n",
    "\n",
    "print(evaluacion(int(nota_alumno)))\n"
   ]
  },
  {
   "cell_type": "code",
   "execution_count": 19,
   "metadata": {},
   "outputs": [
    {
     "name": "stdout",
     "output_type": "stream",
     "text": [
      "Verificación de Acceso\n",
      "Introduce tu edad: 10\n",
      "No puedes pasar\n",
      "El programa ha finalizado.\n"
     ]
    }
   ],
   "source": [
    "print(\"Verificación de Acceso\")\n",
    "\n",
    "edad_usuario=int(input(\"Introduce tu edad: \"))\n",
    "\n",
    "if edad_usuario<18:\n",
    "    print(\"No puedes pasar\")\n",
    "elif edad_usuario>100:\n",
    "    print(\"Edad incorrecta\")\n",
    "else:\n",
    "    print(\"Puedes pasar\")\n",
    "print(\"El programa ha finalizado.\")"
   ]
  },
  {
   "cell_type": "code",
   "execution_count": 22,
   "metadata": {},
   "outputs": [
    {
     "name": "stdout",
     "output_type": "stream",
     "text": [
      "Verificación de Acceso\n",
      "Introduce tu nota: 4\n",
      "Insuficiente\n",
      "El programa ha finalizado.\n"
     ]
    }
   ],
   "source": [
    "print(\"Verificación de Acceso\")\n",
    "\n",
    "nota_alumno=int(input(\"Introduce tu nota: \"))\n",
    "\n",
    "if nota_alumno<5:\n",
    "    print(\"Insuficiente\")\n",
    "elif nota_alumno<6:\n",
    "    print(\"Suficiente\")\n",
    "elif nota_alumno<7:\n",
    "    print(\"Bien\")\n",
    "elif nota_alumno<9:\n",
    "    print(\"Notable\")\n",
    "else:\n",
    "    print(\"Sobresaliente\")\n",
    "print(\"El programa ha finalizado.\")"
   ]
  },
  {
   "cell_type": "code",
   "execution_count": 23,
   "metadata": {},
   "outputs": [
    {
     "name": "stdout",
     "output_type": "stream",
     "text": [
      "Edad es correcta\n"
     ]
    }
   ],
   "source": [
    "edad=7\n",
    "\n",
    "if 0<edad<100:\n",
    "    print(\"Edad es correcta\")\n",
    "else:\n",
    "    print(\"Edad es incorrecta\")"
   ]
  },
  {
   "cell_type": "code",
   "execution_count": 26,
   "metadata": {},
   "outputs": [
    {
     "name": "stdout",
     "output_type": "stream",
     "text": [
      "Introduce salario presidente: 1000\n",
      "Salario presidente 1000\n",
      "Introduce salario director: 230\n",
      "Salario director 230\n",
      "Introduce salario jefe area: 1000\n",
      "Salario jefe area 1000\n",
      "Introduce salario administrativo: 2500\n",
      "Salario administrativo 2500\n",
      "Algo falla\n"
     ]
    }
   ],
   "source": [
    "salario_presidente=int(input(\"Introduce salario presidente: \"))\n",
    "print(\"Salario presidente: \", salario_presidente)\n",
    "salario_director=int(input(\"Introduce salario director: \"))\n",
    "print(\"Salario director: \", salario_director)\n",
    "salario_jefe_area=int(input(\"Introduce salario jefe area: \"))\n",
    "print(\"Salario jefe area: \", salario_jefe_area)\n",
    "salario_administrativo=int(input(\"Introduce salario administrativo: \"))\n",
    "print(\"Salario administrativo: \", salario_administrativo)\n",
    "\n",
    "if salario_administrativo<salario_jefe_area<salario_director<salario_presidente:\n",
    "    print(\"Todo correcto\")\n",
    "else:\n",
    "    print(\"Algo falla\")"
   ]
  },
  {
   "cell_type": "markdown",
   "metadata": {},
   "source": []
  },
  {
   "cell_type": "code",
   "execution_count": 31,
   "metadata": {},
   "outputs": [
    {
     "name": "stdout",
     "output_type": "stream",
     "text": [
      "Elección asignaturas\n",
      "Asignaturas optativas: física - química - microbiología\n",
      "Escribe la asignatura escogida: FíSica\n",
      "Asignatura elegida:  física\n"
     ]
    }
   ],
   "source": [
    "print(\"Elección asignaturas\")\n",
    "print(\"Asignaturas optativas: física - química - microbiología\")\n",
    "opcion=input(\"Escribe la asignatura escogida: \")\n",
    "asignatura=opcion.lower()\n",
    "\n",
    "if asignatura in(\"física\", \"química\", \"microbiología\"):\n",
    "    print(\"Asignatura elegida: \", asignatura)\n",
    "    \n",
    "else:\n",
    "    print(\"La asignatura escogida no está contemplada\")"
   ]
  },
  {
   "cell_type": "code",
   "execution_count": null,
   "metadata": {},
   "outputs": [],
   "source": []
  },
  {
   "cell_type": "code",
   "execution_count": null,
   "metadata": {},
   "outputs": [],
   "source": []
  }
 ],
 "metadata": {
  "kernelspec": {
   "display_name": "Python 3",
   "language": "python",
   "name": "python3"
  },
  "language_info": {
   "codemirror_mode": {
    "name": "ipython",
    "version": 3
   },
   "file_extension": ".py",
   "mimetype": "text/x-python",
   "name": "python",
   "nbconvert_exporter": "python",
   "pygments_lexer": "ipython3",
   "version": "3.7.3"
  }
 },
 "nbformat": 4,
 "nbformat_minor": 2
}
