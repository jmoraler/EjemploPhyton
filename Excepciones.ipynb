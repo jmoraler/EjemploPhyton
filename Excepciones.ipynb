{
 "cells": [
  {
   "cell_type": "code",
   "execution_count": 9,
   "metadata": {},
   "outputs": [
    {
     "name": "stdout",
     "output_type": "stream",
     "text": [
      "numero1: 3\n",
      "numero2: 5\n",
      "0.6\n"
     ]
    }
   ],
   "source": [
    "while True:\n",
    "    try:\n",
    "        num1=int(input(\"numero1: \"))\n",
    "        num2=int(input(\"numero2: \"))\n",
    "        break\n",
    "    except ValueError:\n",
    "        print(\"Deben introducirse valores numéricos, intentalo de nuevo: \")\n",
    "    \n",
    "try:\n",
    "    resultado=num1/num2\n",
    "    print(resultado)\n",
    "    \n",
    "except ZeroDivisionError:\n",
    "    print(\"No se puede dividir entre 0\")\n",
    "\n",
    "\n",
    "    "
   ]
  },
  {
   "cell_type": "code",
   "execution_count": 16,
   "metadata": {},
   "outputs": [
    {
     "name": "stdout",
     "output_type": "stream",
     "text": [
      "Primer numero: d\n",
      "Valor erroneo\n",
      "Calculo realizado\n"
     ]
    }
   ],
   "source": [
    "def divide():\n",
    "    try:\n",
    "        op1=float(input(\"Primer numero: \"))\n",
    "        op2=float(input(\"Segundo numero: \"))\n",
    "        print(\"La division es: \", op1/op2)\n",
    "    except ValueError:\n",
    "        print(\"Valor erroneo\")\n",
    "    except ZeroDivisionError:\n",
    "        print(\"Division por 0\")\n",
    "    \n",
    "    print(\"Calculo realizado\")\n",
    "    \n",
    "    \n",
    "divide()"
   ]
  },
  {
   "cell_type": "code",
   "execution_count": 20,
   "metadata": {},
   "outputs": [
    {
     "name": "stdout",
     "output_type": "stream",
     "text": [
      "Primer numero: 9\n",
      "Segundo numero: 0\n"
     ]
    },
    {
     "ename": "ZeroDivisionError",
     "evalue": "float division by zero",
     "output_type": "error",
     "traceback": [
      "\u001b[1;31m---------------------------------------------------------------------------\u001b[0m",
      "\u001b[1;31mZeroDivisionError\u001b[0m                         Traceback (most recent call last)",
      "\u001b[1;32m<ipython-input-20-38aea5cd16ac>\u001b[0m in \u001b[0;36m<module>\u001b[1;34m\u001b[0m\n\u001b[0;32m     10\u001b[0m \u001b[1;33m\u001b[0m\u001b[0m\n\u001b[0;32m     11\u001b[0m \u001b[1;33m\u001b[0m\u001b[0m\n\u001b[1;32m---> 12\u001b[1;33m \u001b[0mdivide\u001b[0m\u001b[1;33m(\u001b[0m\u001b[1;33m)\u001b[0m\u001b[1;33m\u001b[0m\u001b[1;33m\u001b[0m\u001b[0m\n\u001b[0m",
      "\u001b[1;32m<ipython-input-20-38aea5cd16ac>\u001b[0m in \u001b[0;36mdivide\u001b[1;34m()\u001b[0m\n\u001b[0;32m      3\u001b[0m         \u001b[0mop1\u001b[0m\u001b[1;33m=\u001b[0m\u001b[0mfloat\u001b[0m\u001b[1;33m(\u001b[0m\u001b[0minput\u001b[0m\u001b[1;33m(\u001b[0m\u001b[1;34m\"Primer numero: \"\u001b[0m\u001b[1;33m)\u001b[0m\u001b[1;33m)\u001b[0m\u001b[1;33m\u001b[0m\u001b[1;33m\u001b[0m\u001b[0m\n\u001b[0;32m      4\u001b[0m         \u001b[0mop2\u001b[0m\u001b[1;33m=\u001b[0m\u001b[0mfloat\u001b[0m\u001b[1;33m(\u001b[0m\u001b[0minput\u001b[0m\u001b[1;33m(\u001b[0m\u001b[1;34m\"Segundo numero: \"\u001b[0m\u001b[1;33m)\u001b[0m\u001b[1;33m)\u001b[0m\u001b[1;33m\u001b[0m\u001b[1;33m\u001b[0m\u001b[0m\n\u001b[1;32m----> 5\u001b[1;33m         \u001b[0mprint\u001b[0m\u001b[1;33m(\u001b[0m\u001b[1;34m\"La division es: \"\u001b[0m\u001b[1;33m,\u001b[0m \u001b[0mop1\u001b[0m\u001b[1;33m/\u001b[0m\u001b[0mop2\u001b[0m\u001b[1;33m)\u001b[0m\u001b[1;33m\u001b[0m\u001b[1;33m\u001b[0m\u001b[0m\n\u001b[0m\u001b[0;32m      6\u001b[0m     \u001b[1;32mexcept\u001b[0m \u001b[0mValueError\u001b[0m\u001b[1;33m:\u001b[0m\u001b[1;33m\u001b[0m\u001b[1;33m\u001b[0m\u001b[0m\n\u001b[0;32m      7\u001b[0m         \u001b[0mprint\u001b[0m\u001b[1;33m(\u001b[0m\u001b[1;34m\"Ha ocurrido un error\"\u001b[0m\u001b[1;33m)\u001b[0m\u001b[1;33m\u001b[0m\u001b[1;33m\u001b[0m\u001b[0m\n",
      "\u001b[1;31mZeroDivisionError\u001b[0m: float division by zero"
     ]
    }
   ],
   "source": [
    "def divide():\n",
    "    try:\n",
    "        op1=float(input(\"Primer numero: \"))\n",
    "        op2=float(input(\"Segundo numero: \"))\n",
    "        print(\"La division es: \", op1/op2)\n",
    "    except ValueError:\n",
    "        print(\"Ha ocurrido un error\")\n",
    "    \n",
    "    print(\"Calculo realizado\")\n",
    "    \n",
    "    \n",
    "divide()"
   ]
  },
  {
   "cell_type": "code",
   "execution_count": 19,
   "metadata": {},
   "outputs": [
    {
     "name": "stdout",
     "output_type": "stream",
     "text": [
      "Primer numero: 8\n",
      "Segundo numero: 0\n",
      "Division por 0\n",
      "Calculo realizado\n"
     ]
    }
   ],
   "source": [
    "def divide():\n",
    "    try:\n",
    "        op1=float(input(\"Primer numero: \"))\n",
    "        op2=float(input(\"Segundo numero: \"))\n",
    "        print(\"La division es: \", op1/op2)\n",
    "    except ValueError:\n",
    "        print(\"Valor erroneo\")\n",
    "    except ZeroDivisionError:\n",
    "        print(\"Division por 0\")\n",
    "    finally:\n",
    "        print(\"Calculo realizado\")\n",
    "    \n",
    "    \n",
    "divide()"
   ]
  },
  {
   "cell_type": "code",
   "execution_count": 27,
   "metadata": {},
   "outputs": [
    {
     "ename": "NameError",
     "evalue": "name 'MiPropioError' is not defined",
     "output_type": "error",
     "traceback": [
      "\u001b[1;31m---------------------------------------------------------------------------\u001b[0m",
      "\u001b[1;31mNameError\u001b[0m                                 Traceback (most recent call last)",
      "\u001b[1;32m<ipython-input-27-bbbbb3f2179c>\u001b[0m in \u001b[0;36m<module>\u001b[1;34m\u001b[0m\n\u001b[0;32m     14\u001b[0m         \u001b[1;32mreturn\u001b[0m \u001b[1;34m\"...\"\u001b[0m\u001b[1;33m\u001b[0m\u001b[1;33m\u001b[0m\u001b[0m\n\u001b[0;32m     15\u001b[0m \u001b[1;33m\u001b[0m\u001b[0m\n\u001b[1;32m---> 16\u001b[1;33m \u001b[0mprint\u001b[0m\u001b[1;33m(\u001b[0m\u001b[0mevaluaEdad\u001b[0m\u001b[1;33m(\u001b[0m\u001b[1;33m-\u001b[0m\u001b[1;36m1\u001b[0m\u001b[1;33m)\u001b[0m\u001b[1;33m)\u001b[0m\u001b[1;33m\u001b[0m\u001b[1;33m\u001b[0m\u001b[0m\n\u001b[0m",
      "\u001b[1;32m<ipython-input-27-bbbbb3f2179c>\u001b[0m in \u001b[0;36mevaluaEdad\u001b[1;34m(edad)\u001b[0m\n\u001b[0;32m      4\u001b[0m \u001b[1;33m\u001b[0m\u001b[0m\n\u001b[0;32m      5\u001b[0m     \u001b[1;32mif\u001b[0m \u001b[0medad\u001b[0m\u001b[1;33m<\u001b[0m\u001b[1;36m0\u001b[0m\u001b[1;33m:\u001b[0m\u001b[1;33m\u001b[0m\u001b[1;33m\u001b[0m\u001b[0m\n\u001b[1;32m----> 6\u001b[1;33m         \u001b[1;32mraise\u001b[0m \u001b[0mMiPropioError\u001b[0m\u001b[1;33m(\u001b[0m\u001b[1;34m\"No edades negativas\"\u001b[0m\u001b[1;33m)\u001b[0m\u001b[1;33m\u001b[0m\u001b[1;33m\u001b[0m\u001b[0m\n\u001b[0m\u001b[0;32m      7\u001b[0m     \u001b[1;32mif\u001b[0m \u001b[0medad\u001b[0m\u001b[1;33m<\u001b[0m\u001b[1;36m20\u001b[0m\u001b[1;33m:\u001b[0m\u001b[1;33m\u001b[0m\u001b[1;33m\u001b[0m\u001b[0m\n\u001b[0;32m      8\u001b[0m         \u001b[1;32mreturn\u001b[0m \u001b[1;34m\"Eres muy joven\"\u001b[0m\u001b[1;33m\u001b[0m\u001b[1;33m\u001b[0m\u001b[0m\n",
      "\u001b[1;31mNameError\u001b[0m: name 'MiPropioError' is not defined"
     ]
    }
   ],
   "source": [
    "# Lanzar excepciones\n",
    "\n",
    "def evaluaEdad(edad):\n",
    "    \n",
    "    if edad<0:\n",
    "        raise MiPropioError(\"No edades negativas\")\n",
    "    if edad<20:\n",
    "        return \"Eres muy joven\"\n",
    "    elif edad<40:\n",
    "        return \"Eres joven\"\n",
    "    elif edad<65:\n",
    "        return \"Eres maduro\"\n",
    "    elif edad<100:\n",
    "        return \"...\"\n",
    "\n",
    "print(evaluaEdad(-1))"
   ]
  },
  {
   "cell_type": "code",
   "execution_count": 33,
   "metadata": {},
   "outputs": [
    {
     "name": "stdout",
     "output_type": "stream",
     "text": [
      "Introduce un número: -233\n",
      "El numero no puede ser negativo\n",
      "Programa terminado\n"
     ]
    }
   ],
   "source": [
    "import math\n",
    "\n",
    "def calculaRaiz(num1):\n",
    "    \n",
    "    if num1<0:\n",
    "        raise ValueError (\"El numero no puede ser negativo\")\n",
    "        \n",
    "    else:\n",
    "        return math.sqrt(num1)\n",
    "    \n",
    "op1=int(input(\"Introduce un número: \"))\n",
    "\n",
    "try:\n",
    "    print(calculaRaiz(op1))\n",
    "except ValueError as ErrorNumeroNegativo:\n",
    "    print(ErrorNumeroNegativo)    \n",
    "    \n",
    "print(\"Programa terminado\")"
   ]
  },
  {
   "cell_type": "code",
   "execution_count": null,
   "metadata": {},
   "outputs": [],
   "source": []
  }
 ],
 "metadata": {
  "kernelspec": {
   "display_name": "Python 3",
   "language": "python",
   "name": "python3"
  },
  "language_info": {
   "codemirror_mode": {
    "name": "ipython",
    "version": 3
   },
   "file_extension": ".py",
   "mimetype": "text/x-python",
   "name": "python",
   "nbconvert_exporter": "python",
   "pygments_lexer": "ipython3",
   "version": "3.7.3"
  }
 },
 "nbformat": 4,
 "nbformat_minor": 2
}
