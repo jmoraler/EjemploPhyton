{
 "cells": [
  {
   "cell_type": "code",
   "execution_count": 2,
   "metadata": {},
   "outputs": [
    {
     "name": "stdout",
     "output_type": "stream",
     "text": [
      "Introduce tu email: jsuafhs,nfd.dnfd@mjdnfd\n",
      "email correcto\n"
     ]
    }
   ],
   "source": [
    "contador=0\n",
    "mi_email=input(\"Introduce tu email: \")\n",
    "\n",
    "for i in mi_email:\n",
    "    if(i==\"@\" or i==\".\"):\n",
    "        contador = contador + 1\n",
    "        \n",
    "if contador==2:\n",
    "    print(\"email correcto\")\n",
    "else:\n",
    "    print(\"email incorrecto\")"
   ]
  },
  {
   "cell_type": "code",
   "execution_count": 3,
   "metadata": {},
   "outputs": [
    {
     "name": "stdout",
     "output_type": "stream",
     "text": [
      "0\n",
      "1\n",
      "2\n",
      "3\n",
      "4\n"
     ]
    }
   ],
   "source": [
    "for i in range(5):\n",
    "    print(i)"
   ]
  },
  {
   "cell_type": "markdown",
   "metadata": {},
   "source": []
  },
  {
   "cell_type": "code",
   "execution_count": 6,
   "metadata": {},
   "outputs": [
    {
     "name": "stdout",
     "output_type": "stream",
     "text": [
      "valor de la  variable 0\n",
      "valor de la  variable 1\n",
      "valor de la  variable 2\n",
      "valor de la  variable 3\n",
      "valor de la  variable 4\n"
     ]
    }
   ],
   "source": [
    "for i in range(5):\n",
    "    print(f\"valor de la variable {i}\")"
   ]
  },
  {
   "cell_type": "code",
   "execution_count": 7,
   "metadata": {},
   "outputs": [
    {
     "name": "stdout",
     "output_type": "stream",
     "text": [
      "valor de la variable 5\n",
      "valor de la variable 8\n",
      "valor de la variable 11\n",
      "valor de la variable 14\n",
      "valor de la variable 17\n",
      "valor de la variable 20\n",
      "valor de la variable 23\n",
      "valor de la variable 26\n",
      "valor de la variable 29\n",
      "valor de la variable 32\n",
      "valor de la variable 35\n",
      "valor de la variable 38\n",
      "valor de la variable 41\n",
      "valor de la variable 44\n",
      "valor de la variable 47\n"
     ]
    }
   ],
   "source": [
    "for i in range(5,50,3):\n",
    "    print(f\"valor de la variable {i}\")"
   ]
  },
  {
   "cell_type": "code",
   "execution_count": 9,
   "metadata": {},
   "outputs": [
    {
     "name": "stdout",
     "output_type": "stream",
     "text": [
      "Introduce email: Juan@hdfjd\n",
      "Email correcto\n"
     ]
    }
   ],
   "source": [
    "valido=False\n",
    "email=input(\"Introduce email: \")\n",
    "\n",
    "for i in range(len(email)):\n",
    "    if email[i]==\"@\":\n",
    "        valido=True\n",
    "\n",
    "if valido:\n",
    "    print(\"Email correcto\")\n",
    "else:\n",
    "    print(\"Email incorrecto\")"
   ]
  },
  {
   "cell_type": "code",
   "execution_count": null,
   "metadata": {},
   "outputs": [],
   "source": []
  },
  {
   "cell_type": "code",
   "execution_count": null,
   "metadata": {},
   "outputs": [],
   "source": []
  }
 ],
 "metadata": {
  "kernelspec": {
   "display_name": "Python 3",
   "language": "python",
   "name": "python3"
  },
  "language_info": {
   "codemirror_mode": {
    "name": "ipython",
    "version": 3
   },
   "file_extension": ".py",
   "mimetype": "text/x-python",
   "name": "python",
   "nbconvert_exporter": "python",
   "pygments_lexer": "ipython3",
   "version": "3.7.3"
  }
 },
 "nbformat": 4,
 "nbformat_minor": 2
}
