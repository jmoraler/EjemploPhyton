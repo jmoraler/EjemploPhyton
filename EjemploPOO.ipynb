{
 "cells": [
  {
   "cell_type": "code",
   "execution_count": 2,
   "metadata": {},
   "outputs": [
    {
     "name": "stdout",
     "output_type": "stream",
     "text": [
      "El largo del coche es:  250\n",
      "El coche tiene:  4  ruedas\n",
      "El coche está en marcha\n",
      "-----------------A continuacion creamos nuestro 2 objeto-----------------\n",
      "Prueba de Commit Git\n",
      "El largo del coche es:  250\n",
      "El coche tiene:  4  ruedas\n",
      "El coche está parado\n"
     ]
    }
   ],
   "source": [
    "class Coche():\n",
    "    largoChasis=250                            # Atributos o propiedades de la clase\n",
    "    anchoChasis=120\n",
    "    ruedas=4\n",
    "    enmarcha=False\n",
    "    \n",
    "    def arrancar(self):                        # Método: Sirve para cambiar el comportamiento de nuestro objeto\n",
    "        self.enmarcha = True\n",
    "    def estado(self):\n",
    "        if(self.enmarcha):\n",
    "            return (\"El coche está en marcha\")\n",
    "        else:\n",
    "            return (\"El coche está parado\")\n",
    "\n",
    "miCoche=Coche()                                # Crear un objeto instanciando una clase (en Java se usa el operador New)\n",
    "\n",
    "print(\"El largo del coche es: \", miCoche.largoChasis)   # Acceder al objeto\n",
    "print(\"El coche tiene: \", miCoche.ruedas,\" ruedas\")\n",
    "miCoche.arrancar()                             # El objeto viaja hasta el método, y asi se pone en marcha el objeto\n",
    "print(miCoche.estado())\n",
    "\n",
    "print(\"-----------------A continuacion creamos nuestro 2 objeto-----------------\")\n",
    "\n",
    "print(\"Prueba de Commit Git\")\n",
    "\n",
    "miCoche2=Coche()    \n",
    "print(\"El largo del coche es: \", miCoche2.largoChasis)\n",
    "print(\"El coche tiene: \", miCoche2.ruedas,\" ruedas\")\n",
    "print(miCoche2.estado())\n",
    "\n",
    "\n",
    "# Nuestra Clase coche() tiene:\n",
    "#    - 4 propiedades\n",
    "#    - 2 comportamientos\n",
    "\n"
   ]
  },
  {
   "cell_type": "code",
   "execution_count": 17,
   "metadata": {},
   "outputs": [
    {
     "name": "stdout",
     "output_type": "stream",
     "text": [
      "El coche está en marcha\n",
      "El coche tiene  4  ruedas. Un ancho de  120  y un largo de  250\n",
      "-----------------A continuacion creamos nuestro 2 objeto-----------------\n",
      "El coche está parado\n",
      "El coche tiene  4  ruedas. Un ancho de  120  y un largo de  250\n"
     ]
    }
   ],
   "source": [
    "class Coche():\n",
    "    largoChasis=250                            # Atributos o propiedades de la clase (en estado inicial)\n",
    "    anchoChasis=120                            \n",
    "    ruedas=4\n",
    "    enmarcha=False\n",
    "    \n",
    "    def arrancar(self,arrancamos):             \n",
    "        self.enmarcha = arrancamos\n",
    "        \n",
    "        if(self.enmarcha):\n",
    "            return (\"El coche está en marcha\")\n",
    "        else:\n",
    "            return (\"El coche está parado\")\n",
    "    def estado(self):\n",
    "        print(\"El coche tiene \", self.ruedas, \" ruedas. Un ancho de \", self.anchoChasis, \" y un largo de \",\n",
    "             self.largoChasis)\n",
    "\n",
    "miCoche=Coche()                                # Crear un objeto instanciando una clase (en Java se usa el operador New)\n",
    "\n",
    "print(miCoche.arrancar(True))                   # El objeto viaja hasta el método, y asi se pone en marcha el objeto\n",
    "miCoche.estado()\n",
    "\n",
    "print(\"-----------------A continuacion creamos nuestro 2 objeto-----------------\")\n",
    "\n",
    "miCoche2=Coche()    \n",
    "\n",
    "print(miCoche2.arrancar(False))\n",
    "miCoche2.estado() \n"
   ]
  },
  {
   "cell_type": "code",
   "execution_count": 23,
   "metadata": {},
   "outputs": [
    {
     "name": "stdout",
     "output_type": "stream",
     "text": [
      "El coche está en marcha\n",
      "El coche tiene  4  ruedas. Un ancho de  120  y un largo de  250\n",
      "-----------------A continuacion creamos nuestro 2 objeto-----------------\n",
      "El coche está parado\n",
      "El coche tiene  4  ruedas. Un ancho de  120  y un largo de  250\n"
     ]
    }
   ],
   "source": [
    "class Coche():\n",
    "    \n",
    "    def __init__(self):\n",
    "    \n",
    "        self.largoChasis=250                            # Atributos o propiedades de la clase (en estado inicial)\n",
    "        self.anchoChasis=120                            # Este estado inicial se crea mediante un CONSTRUCTOR\n",
    "        self.__ruedas=4            # Variable encapsulada para que no se pueda modificar\n",
    "        self.enmarcha=False\n",
    "    \n",
    "    def arrancar(self,arrancamos):             \n",
    "        self.enmarcha = arrancamos\n",
    "        \n",
    "        if(self.enmarcha):\n",
    "            return (\"El coche está en marcha\")\n",
    "        else:\n",
    "            return (\"El coche está parado\")\n",
    "    def estado(self):\n",
    "        print(\"El coche tiene \", self.__ruedas, \" ruedas. Un ancho de \", self.anchoChasis, \" y un largo de \",\n",
    "             self.largoChasis)\n",
    "\n",
    "miCoche=Coche()                           \n",
    "\n",
    "print(miCoche.arrancar(True))               \n",
    "miCoche.estado()\n",
    "\n",
    "print(\"-----------------A continuacion creamos nuestro 2 objeto-----------------\")\n",
    "\n",
    "miCoche2=Coche()    \n",
    "\n",
    "print(miCoche2.arrancar(False))\n",
    "miCoche2.ruedas=2                             #estamos cambiando las propiedades iniciales, no deberia permitirse; Para evitarlo usamos  la encapsulacion.\n",
    "miCoche2.estado() \n"
   ]
  },
  {
   "cell_type": "code",
   "execution_count": 4,
   "metadata": {},
   "outputs": [
    {
     "name": "stdout",
     "output_type": "stream",
     "text": [
      "Realizando chequeo interno\n",
      "El coche está en marcha.\n",
      "El coche tiene  4  ruedas. Un ancho de  120  y un largo de  250\n",
      "----------------- A continuacion creamos nuestro 2 objeto -----------------\n",
      "El coche está parado.\n",
      "El coche tiene  4  ruedas. Un ancho de  120  y un largo de  250\n",
      "Prueba del segundo Commit Git\n",
      "Prueba del tercer Commit Git\n",
      "Prueba cuarta\n"
     ]
    }
   ],
   "source": [
    "class Coche():\n",
    "    \n",
    "    def __init__(self):\n",
    "    \n",
    "        self.__largoChasis=250                            \n",
    "        self.__anchoChasis=120                           \n",
    "        self.__ruedas=4          \n",
    "        self.__enmarcha=False\n",
    "    \n",
    "    def arrancar(self,arrancamos):             \n",
    "        self.__enmarcha = arrancamos\n",
    "        \n",
    "        if(self.__enmarcha):\n",
    "            chequeo=self.__chequeo_interno()\n",
    "        \n",
    "        if(self.__enmarcha and chequeo):\n",
    "            return (\"El coche está en marcha.\")\n",
    "        elif(self.__enmarcha and chequeo==False):\n",
    "            return \"Chequeo erroneo. No se puede arrancar.\"\n",
    "        else:\n",
    "            return (\"El coche está parado.\")\n",
    "        \n",
    "    def estado(self):\n",
    "        print(\"El coche tiene \", self.__ruedas, \" ruedas. Un ancho de \", self.__anchoChasis, \" y un largo de \",\n",
    "             self.__largoChasis)\n",
    "        \n",
    "    def __chequeo_interno(self):             # Método encapsulado (así solo puede usarse dentro de otro método)\n",
    "        print(\"Realizando chequeo interno\")\n",
    "        \n",
    "        self.gasolina=\"ok\"\n",
    "        self.aceite=\"ok\"\n",
    "        self.puertas=\"cerradas\"\n",
    "        \n",
    "        if (self.gasolina==\"ok\" and self.aceite==\"ok\" and self.puertas==\"cerradas\"):\n",
    "            return True\n",
    "        else:\n",
    "            return False\n",
    "\n",
    "miCoche=Coche()                           \n",
    "\n",
    "print(miCoche.arrancar(True))               \n",
    "miCoche.estado()\n",
    "#print(miCoche.chequeo_interno())         # Para evitar poder entrar al metodo de chequeo en cualquier momento, lo encapsulamos\n",
    "\n",
    "print(\"----------------- A continuacion creamos nuestro 2 objeto -----------------\")\n",
    "\n",
    "miCoche2=Coche()    \n",
    "\n",
    "print(miCoche2.arrancar(False))                        \n",
    "miCoche2.estado() \n",
    "\n",
    "print(\"Prueba del segundo Commit Git\")\n",
    "print(\"Prueba del tercer Commit Git\")\n",
    "print(\"Prueba cuarta\")\n",
    "print(\"Prueba 9:57 - Subir nuevos cambios a GitHub\")\n",
    "print(\"Prueba 10:03 - Nueva rama\")\n"
   ]
  },
  {
   "cell_type": "code",
   "execution_count": null,
   "metadata": {},
   "outputs": [],
   "source": []
  }
 ],
 "metadata": {
  "kernelspec": {
   "display_name": "Python 3",
   "language": "python",
   "name": "python3"
  },
  "language_info": {
   "codemirror_mode": {
    "name": "ipython",
    "version": 3
   },
   "file_extension": ".py",
   "mimetype": "text/x-python",
   "name": "python",
   "nbconvert_exporter": "python",
   "pygments_lexer": "ipython3",
   "version": "3.7.3"
  }
 },
 "nbformat": 4,
 "nbformat_minor": 2
}
