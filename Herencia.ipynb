{
 "cells": [
  {
   "cell_type": "code",
   "execution_count": 2,
   "metadata": {},
   "outputs": [
    {
     "ename": "IndentationError",
     "evalue": "expected an indented block (<ipython-input-2-ef706e315aba>, line 29)",
     "output_type": "error",
     "traceback": [
      "\u001b[1;36m  File \u001b[1;32m\"<ipython-input-2-ef706e315aba>\"\u001b[1;36m, line \u001b[1;32m29\u001b[0m\n\u001b[1;33m    print(\"Marca: \", self.marca, \"\\nModelo: \", self.modelo, \"\\nEn marcha: \", self.enmarcha,\u001b[0m\n\u001b[1;37m        ^\u001b[0m\n\u001b[1;31mIndentationError\u001b[0m\u001b[1;31m:\u001b[0m expected an indented block\n"
     ]
    }
   ],
   "source": [
    "class Vehiculos():\n",
    "    \n",
    "    def __init__(self, marca, modelo):\n",
    "        self.marca=marca\n",
    "        self.modelo=modelo\n",
    "        self.enmarcha=False\n",
    "        self.acelera=False\n",
    "        self.frena=False\n",
    "        \n",
    "    def arrancar(self):\n",
    "        self.enmarcha=True\n",
    "        \n",
    "    def acelerar(self):\n",
    "        self.acelera=True\n",
    "    \n",
    "    def frenar(self):\n",
    "        self.frenar=True\n",
    "        \n",
    "    def estado(self):\n",
    "        print(\"Marca: \", self.marca, \"\\nModelo: \", self.modelo, \"\\nEn marcha: \", self.enmarcha,\n",
    "             \"\\nAcelerando: \", self.acelera, \"\\nFrenando: \", self.frena)\n",
    "        \n",
    "class Moto(Vehiculos):      # Hereda las propiedades y métodos de la clase Vehículo\n",
    "    hcabalito=\"\"\n",
    "    def caballito(self):\n",
    "        self.hcaballito=\"Voy haciendo el caballito\"    # Ahora un objeto de tipo moto tiene 6 métodos.\n",
    "\n",
    "    def estado(self):\n",
    "    print(\"Marca: \", self.marca, \"\\nModelo: \", self.modelo, \"\\nEn marcha: \", self.enmarcha,\n",
    "          \"\\nAcelerando: \", self.acelera, \"\\nFrenando: \", self.frena, \"\\n\", self.hcaballito)\n",
    "        \n",
    "moto1=Moto(\"Seat\",\"León\")    # le pasamos parámetros ya que hereda de Vehículo\n",
    "\n",
    "moto1.caballito()\n",
    "\n",
    "moto1.estado()"
   ]
  },
  {
   "cell_type": "code",
   "execution_count": 1,
   "metadata": {},
   "outputs": [
    {
     "name": "stdout",
     "output_type": "stream",
     "text": [
      "Marca:  Seat \n",
      "Modelo:  León \n",
      "En marcha:  False \n",
      "Acelerando:  False \n",
      "Frenando:  False \n",
      " Voy haciendo el caballito\n",
      "Marca:  Renault \n",
      "Modelo:  Kangoo \n",
      "En marcha:  True \n",
      "Acelerando:  False \n",
      "Frenando:  False\n",
      "La furgoneta está cargada\n"
     ]
    }
   ],
   "source": [
    "class Vehiculos():\n",
    "    \n",
    "    def __init__(self, marca, modelo):\n",
    "        self.marca=marca\n",
    "        self.modelo=modelo\n",
    "        self.enmarcha=False\n",
    "        self.acelera=False\n",
    "        self.frena=False\n",
    "        \n",
    "    def arrancar(self):\n",
    "        self.enmarcha=True\n",
    "        \n",
    "    def acelerar(self):\n",
    "        self.acelera=True\n",
    "    \n",
    "    def frenar(self):\n",
    "        self.frenar=True\n",
    "        \n",
    "    def estado(self):\n",
    "        print(\"Marca: \", self.marca, \"\\nModelo: \", self.modelo, \"\\nEn marcha: \", self.enmarcha,\n",
    "             \"\\nAcelerando: \", self.acelera, \"\\nFrenando: \", self.frena)\n",
    "        \n",
    "class furgoneta(Vehiculos):\n",
    "    def carga(self,cargar):\n",
    "        self.cargado=cargar\n",
    "        if (self.cargado):\n",
    "            return \"La furgoneta está cargada\"\n",
    "        else:\n",
    "            return \"La furgoneta no está cargada\"\n",
    "        \n",
    "class Moto(Vehiculos):      # Hereda las propiedades y métodos de la clase Vehículo\n",
    "    hcaballito=\"\"\n",
    "    def caballito(self):\n",
    "        self.hcaballito=\"Voy haciendo el caballito\"    # Ahora un objeto de tipo moto tiene 6 métodos.\n",
    "\n",
    "    def estado(self):\n",
    "        print(\"Marca: \", self.marca, \"\\nModelo: \", self.modelo, \"\\nEn marcha: \", self.enmarcha,\n",
    "            \"\\nAcelerando: \", self.acelera, \"\\nFrenando: \", self.frena, \"\\n\", self.hcaballito)\n",
    "    \n",
    "class vElectricos(Vehiculos):\n",
    "    def __init__(self,marca,modelo):\n",
    "        \n",
    "        super().__init__(marca,modelo)\n",
    "        self.autonomia=100\n",
    "        \n",
    "    def __cargarEnergia__(self):\n",
    "        self.cargando=True\n",
    "        \n",
    "moto1=Moto(\"Seat\",\"León\")    # le pasamos parámetros ya que hereda de Vehículo\n",
    "\n",
    "moto1.caballito()\n",
    "\n",
    "moto1.estado()\n",
    "\n",
    "furgoneta1=furgoneta(\"Renault\", \"Kangoo\")\n",
    "furgoneta1.arrancar()\n",
    "furgoneta1.estado()\n",
    "print(furgoneta1.carga(True))\n",
    "\n",
    "class BicicletaElectrica(vElectricos,Vehiculos):      # Hereda prop y métodos de las dos clases indicadas\n",
    "    pass                                             # Tiene preferencia de heredado el constructor de la primera clase que indiquemos (vElectricos en este caso)\n",
    "\n",
    "bici1=BicicletaElectrica(\"Orbea\",\"ST180\")\n"
   ]
  },
  {
   "cell_type": "code",
   "execution_count": null,
   "metadata": {},
   "outputs": [],
   "source": []
  }
 ],
 "metadata": {
  "kernelspec": {
   "display_name": "Python 3",
   "language": "python",
   "name": "python3"
  },
  "language_info": {
   "codemirror_mode": {
    "name": "ipython",
    "version": 3
   },
   "file_extension": ".py",
   "mimetype": "text/x-python",
   "name": "python",
   "nbconvert_exporter": "python",
   "pygments_lexer": "ipython3",
   "version": "3.7.3"
  }
 },
 "nbformat": 4,
 "nbformat_minor": 2
}
